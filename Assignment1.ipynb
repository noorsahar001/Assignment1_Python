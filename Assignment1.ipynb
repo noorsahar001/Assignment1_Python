{
  "nbformat": 4,
  "nbformat_minor": 0,
  "metadata": {
    "colab": {
      "provenance": [],
      "authorship_tag": "ABX9TyNGIFt/Z3i3fqt4865h/luF",
      "include_colab_link": true
    },
    "kernelspec": {
      "name": "python3",
      "display_name": "Python 3"
    },
    "language_info": {
      "name": "python"
    }
  },
  "cells": [
    {
      "cell_type": "markdown",
      "metadata": {
        "id": "view-in-github",
        "colab_type": "text"
      },
      "source": [
        "<a href=\"https://colab.research.google.com/github/noorsahar001/Assignment1_Python/blob/main/Assignment1.ipynb\" target=\"_parent\"><img src=\"https://colab.research.google.com/assets/colab-badge.svg\" alt=\"Open In Colab\"/></a>"
      ]
    },
    {
      "cell_type": "markdown",
      "source": [
        "#Python String Assignment\n"
      ],
      "metadata": {
        "id": "upN0mNlgyt3h"
      }
    },
    {
      "cell_type": "markdown",
      "source": [
        "#Part:1 Understanding String Literals\n",
        "\n",
        "\n",
        "1.Create three different strings using each type of quotation:\n",
        "\n",
        "   o Single quotes ('example')\n",
        "\n",
        "   o Double quotes (\"example\")\n",
        "\n",
        "   o Triple quotes (\"\"\"example\"\"\")\n",
        "\n"
      ],
      "metadata": {
        "id": "7Pt4FU8i-OLa"
      }
    },
    {
      "cell_type": "code",
      "source": [
        "#Single Quotes\n",
        "string1 = 'My name is NoorSahar'\n",
        "print(string1)\n"
      ],
      "metadata": {
        "colab": {
          "base_uri": "https://localhost:8080/"
        },
        "id": "MU3FtoYJ2A5D",
        "outputId": "14e2b528-f6de-49b8-d81d-0c8918eb06c8"
      },
      "execution_count": null,
      "outputs": [
        {
          "output_type": "stream",
          "name": "stdout",
          "text": [
            "My name is NoorSahar\n"
          ]
        }
      ]
    },
    {
      "cell_type": "code",
      "source": [
        "#Double Quotes\n",
        "string2 = \"I am from Pakistan\"\n",
        "print(string2)"
      ],
      "metadata": {
        "colab": {
          "base_uri": "https://localhost:8080/"
        },
        "id": "YgXuNG3P8vIh",
        "outputId": "e3bf4250-6e45-49dd-9326-19a1d048eb19"
      },
      "execution_count": null,
      "outputs": [
        {
          "output_type": "stream",
          "name": "stdout",
          "text": [
            "I am from Pakistan\n"
          ]
        }
      ]
    },
    {
      "cell_type": "code",
      "source": [
        "#Triple Quotes\n",
        "string3 = \"\"\"\n",
        "I am doing a Artifical Intellligence, Web 3.0 & Metaverse course at the\n",
        "Governor House. I am interested in technology and web development. I love\n",
        "learning new things and exploring new opportunities in the teach world.\"\"\"\n",
        "print(string3)"
      ],
      "metadata": {
        "colab": {
          "base_uri": "https://localhost:8080/"
        },
        "id": "lk39HMqL85e-",
        "outputId": "b6369d5b-cc19-4741-9cc6-4c52b4505f7d"
      },
      "execution_count": null,
      "outputs": [
        {
          "output_type": "stream",
          "name": "stdout",
          "text": [
            "\n",
            "I am doing a Artifical Intellligence, Web 3.0 & Metaverse course at the \n",
            "Governor House. I am interested in technology and web development. I love \n",
            "learning new things and exploring new opportunities in the teach world.\n"
          ]
        }
      ]
    },
    {
      "cell_type": "markdown",
      "source": [
        "   2.Explain in your own words: What is the advantage of each type of quotation?\n"
      ],
      "metadata": {
        "id": "BKDGyndj89km"
      }
    },
    {
      "cell_type": "markdown",
      "source": [
        "In Python, there are three typr of quotation.\n",
        "Single ('')\n",
        "\n",
        "Double (\"\")\n",
        "\n",
        "Triple(\"\"\"or\"\"\")\n",
        "\n",
        "Each types has its own advantages\n",
        "\n",
        "**Single Quotes('')**\n",
        "\n",
        "**Advantages:**\n",
        "\n",
        " 1.Used to define string values.\n",
        "\n",
        " 2.Keeps code clean and simple.\n",
        "\n",
        "**Double Quotes(\"\")**\n",
        "\n",
        "**Advantages:**\n",
        "\n",
        " 1.Standard in most programming languages.\n",
        "\n",
        " 2.Allow using single quotes inside string.\n",
        "\n",
        "**Triple Quotes(\"\"\"or\"\"\")**\n",
        "\n",
        "**Advantages:**\n",
        "\n",
        " 1.Used for multilines string.\n",
        "\n",
        " 2.Commonly used for documentation strings in python.\n",
        "\n"
      ],
      "metadata": {
        "id": "xqlV8Jaw-URh"
      }
    },
    {
      "cell_type": "markdown",
      "source": [
        "3.Write a string that contains both single and double quotes inside its.\n",
        "   Example: She said, \"I'am going to the store.\""
      ],
      "metadata": {
        "id": "rs_zss6DFfWN"
      }
    },
    {
      "cell_type": "code",
      "source": [
        "text = \"\"\"She said, \"I' am going to the University.\"\"\"\"\"\n",
        "print(text)"
      ],
      "metadata": {
        "colab": {
          "base_uri": "https://localhost:8080/"
        },
        "id": "QybxUAidGjW9",
        "outputId": "6cfaea6c-a605-4d7b-f63a-8f64ad807c20"
      },
      "execution_count": null,
      "outputs": [
        {
          "output_type": "stream",
          "name": "stdout",
          "text": [
            "She said, \"I' am going to the University.\n"
          ]
        }
      ]
    },
    {
      "cell_type": "markdown",
      "source": [
        "4.Create a multi-line string using triple quotes that describes your favorite hobby."
      ],
      "metadata": {
        "id": "POXsyHmkOXpU"
      }
    },
    {
      "cell_type": "code",
      "source": [
        "hobby = \"\"\"My hobby is writing and coding!\n",
        "I love exploring new concepts and lerning about the latest technology trends.\n",
        "If i get free time, I enjoy reading books or writing about\n",
        "interesting topics. I also enjoy photography and video editing.\n",
        "\"\"\"\n",
        "print(hobby)"
      ],
      "metadata": {
        "colab": {
          "base_uri": "https://localhost:8080/"
        },
        "id": "f8W2vto8S8oP",
        "outputId": "aa5891fa-e077-4652-a44e-97e07737dca9"
      },
      "execution_count": null,
      "outputs": [
        {
          "output_type": "stream",
          "name": "stdout",
          "text": [
            "My hobby is writing and coding! \n",
            "I love exploring new concepts and lerning about the latest technology trends.\n",
            "If i get free time, I enjoy reading books or writing about \n",
            "interesting topics. I also enjoy photography and video editing.\n",
            "\n"
          ]
        }
      ]
    },
    {
      "cell_type": "markdown",
      "source": [
        "#Part:2 String Methods Practice\n",
        "\n",
        "1.Create a variable full_name with your full name (first and last name). Then write code to:\n",
        "\n",
        "  o Print your name in all uppercase letters\n",
        "\n",
        "  o Print your name in all lowercase letters\n",
        "\n",
        "  o Print your name with the first letter of each name capitalized\n"
      ],
      "metadata": {
        "id": "xXq5VfUNX5CH"
      }
    },
    {
      "cell_type": "code",
      "source": [
        "#Create a variable with your full name\n",
        "full_name = \"Noor Sahar\"\n",
        "\n",
        "#Print your name in all uppercase letters\n",
        "print(full_name.upper())\n",
        "\n",
        "#Print your name in all lowercase letters\n",
        "print(full_name.lower())\n",
        "\n",
        "#Print your name with the first letter of each name capitalized\n",
        "print(full_name.title())\n"
      ],
      "metadata": {
        "colab": {
          "base_uri": "https://localhost:8080/"
        },
        "id": "O1l_113Qh8Vh",
        "outputId": "47367f73-4275-4c77-b561-2e8d02c73831"
      },
      "execution_count": null,
      "outputs": [
        {
          "output_type": "stream",
          "name": "stdout",
          "text": [
            "NOOR SAHAR\n",
            "noor sahar\n",
            "Noor Sahar\n"
          ]
        }
      ]
    },
    {
      "cell_type": "markdown",
      "source": [
        "2.Create a variable messy_text = \" Python programming is fun! \" Then write code\n",
        "to:\n",
        "\n",
        "  o Remove all the extra spaces at the beginning and end\n",
        "\n",
        "  o Replace \"fun\" with \"amazing\"\n",
        "\n",
        "  o Count how many times the letter 'i' appears\n"
      ],
      "metadata": {
        "id": "LEIN7bRT8Rqn"
      }
    },
    {
      "cell_type": "code",
      "source": [
        "#Create a variable\n",
        "messy_text = \" Python programming is fun! \"\n",
        "\n",
        "#Remove all the extra spaces at the beginning and end\n",
        "clean_text = messy_text.strip()\n",
        "print(clean_text)\n",
        "\n",
        "#Replace \"fun\" with \"amazing\"\n",
        "updated = clean_text.replace(\"fun\", \"amazing\")\n",
        "print(updated)\n",
        "\n",
        "#Count how many times the letter 'i' appears\n",
        "count_i = clean_text.count('i')\n",
        "print(count_i)\n"
      ],
      "metadata": {
        "colab": {
          "base_uri": "https://localhost:8080/"
        },
        "id": "wKPaZ1Qc9cZb",
        "outputId": "84c69817-2ec7-49aa-dfec-d543afe8fd45"
      },
      "execution_count": null,
      "outputs": [
        {
          "output_type": "stream",
          "name": "stdout",
          "text": [
            "Python programming is fun!\n",
            "Python programming is amazing!\n",
            "2\n"
          ]
        }
      ]
    },
    {
      "cell_type": "markdown",
      "source": [
        "3.Create a variable sentence = \"The quick brown fox jumps over the lazy dog\"\n",
        "Then write code to:\n",
        "\n",
        "o Split this sentence into a list of words\n",
        "\n",
        "o Join the words back together with dashes between them\n",
        "\n",
        "o Check if the sentence starts with \"The\"\n",
        "\n",
        "o Find the position of the word \"fox\"\n",
        "\n"
      ],
      "metadata": {
        "id": "Te_89JSFAujU"
      }
    },
    {
      "cell_type": "code",
      "source": [
        "#Create a variable sentence\n",
        "sentence = \"The quick brown fox jumps over the lazy dog\"\n",
        "\n",
        "#Split this sentence into a list of words\n",
        "list = sentence.split()\n",
        "print(list)\n",
        "\n",
        "#Join the word back together with dashes\n",
        "join = \"_\".join(list)\n",
        "print(join)\n",
        "\n",
        "#Check if the sentence starts with \"The\"\n",
        "start = sentence.startswith(\"The\")\n",
        "print(start)\n",
        "\n",
        "#ind the position of the word \"fox\"\n",
        "position = sentence.find(\"fox\")\n",
        "print(position)"
      ],
      "metadata": {
        "colab": {
          "base_uri": "https://localhost:8080/"
        },
        "id": "3lR1uv4IBtg3",
        "outputId": "f405fc1c-6dce-422c-9359-0c085a50edbd"
      },
      "execution_count": null,
      "outputs": [
        {
          "output_type": "stream",
          "name": "stdout",
          "text": [
            "['The', 'quick', 'brown', 'fox', 'jumps', 'over', 'the', 'lazy', 'dog']\n",
            "The_quick_brown_fox_jumps_over_the_lazy_dog\n",
            "True\n",
            "16\n"
          ]
        }
      ]
    },
    {
      "cell_type": "markdown",
      "source": [
        "#Part3: F-strings\n",
        "1.Create variables for:\n",
        "\n",
        "  o Your name\n",
        "\n",
        "  o Your age\n",
        "\n",
        "  o Your favorite programming language"
      ],
      "metadata": {
        "id": "GTbCVQvHFo3U"
      }
    },
    {
      "cell_type": "code",
      "source": [
        "#Create Variable\n",
        "name = \"Noor Sahar\"\n",
        "age = 21\n",
        "favorite_language = \"Python\"\n",
        "print(\"Name:\", name)\n",
        "print(\"Age:\", age)\n",
        "print(\"Favorite Programming Language:\", favorite_language)"
      ],
      "metadata": {
        "colab": {
          "base_uri": "https://localhost:8080/"
        },
        "id": "FO5aCRqZH53X",
        "outputId": "edf1c1b0-0a0d-4580-a909-4786b2d00a7c"
      },
      "execution_count": null,
      "outputs": [
        {
          "output_type": "stream",
          "name": "stdout",
          "text": [
            "Name: Noor Sahar\n",
            "Age: 21\n",
            "Favorite Programming Language: Python\n"
          ]
        }
      ]
    },
    {
      "cell_type": "markdown",
      "source": [
        "Then use f-strings to create these sentences:\n",
        "\n",
        "  o \"My name is {your_name} and I am {your_age} years old.\"\n",
        "\n",
        "  o \"I enjoy programming in {language}, it's my favorite!\"\n",
        "\n",
        "  o Create a math expression inside an f-string: \"In 5 years, I will be\n",
        "  {age + 5} years old.\""
      ],
      "metadata": {
        "id": "KWEfPKQfXIJy"
      }
    },
    {
      "cell_type": "code",
      "source": [
        "#Creating Variable\n",
        "name = \"Noor Sahar\"\n",
        "age = 21\n",
        "favorite_language = \"Python\"\n",
        "\n",
        "#use f-strings to create these sentences\n",
        "sentence1 = f\"My name is {name} and I am {age} years old.\"\n",
        "sentence2 = f\"I enjoy programming in {favorite_language}, it's my favorite!\"\n",
        "sentence3 = f\"In 5 years, I will be {age + 5} years old.\"\n",
        "print(sentence1)\n",
        "print(sentence2)\n",
        "print(sentence3)"
      ],
      "metadata": {
        "colab": {
          "base_uri": "https://localhost:8080/"
        },
        "id": "FhHdWGSmYVgM",
        "outputId": "fa2bd39b-827b-43fe-8a2c-b6d4ce85f296"
      },
      "execution_count": null,
      "outputs": [
        {
          "output_type": "stream",
          "name": "stdout",
          "text": [
            "My name is Noor Sahar and I am 21 years old.\n",
            "I enjoy programming in Python, it's my favorite!\n",
            "In 5 years, I will be 26 years old.\n"
          ]
        }
      ]
    },
    {
      "cell_type": "markdown",
      "source": [
        "#Part 4:Combining String Methods with F-Strings\n",
        "Create a program that:\n",
        "\n",
        "1.Asks for user input about their first name, last name, and birth year\n",
        "\n",
        "2.Uses string methods to properly capitalize their name\n",
        "\n",
        "3.Uses f-strings to create a profile message: \"Profile: {First Last}, Age: {calculated age}, Username: {first initial + last name + birth year}\""
      ],
      "metadata": {
        "id": "4O5B5on8dnbE"
      }
    },
    {
      "cell_type": "code",
      "source": [
        "#Asks for user input\n",
        "first_name = input(\"Enter your name: \").strip().capitalize()\n",
        "last_name = input(\"Enter your last name: \").strip().capitalize()\n",
        "birth_year = input(\"Enter your birth year: \").strip()\n",
        "\n",
        "#Calculating age\n",
        "current_year = 2025\n",
        "age = current_year -int(birth_year)\n",
        "\n",
        "#Creating user\n",
        "username = f\"{first_name[0].lower()}{last_name.lower()}{birth_year}\"\n",
        "\n",
        "#Create the profile message using f-string\n",
        "profile_message = f\"Profile: {first_name} {last_name}, Age: {age}, Username: {username}\"\n",
        "\n",
        "print(profile_message)"
      ],
      "metadata": {
        "id": "LkWznxyVefmY"
      },
      "execution_count": null,
      "outputs": []
    }
  ]
}